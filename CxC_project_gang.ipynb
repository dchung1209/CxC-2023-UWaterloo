{
  "cells": [
    {
      "cell_type": "markdown",
      "metadata": {
        "id": "view-in-github",
        "colab_type": "text"
      },
      "source": [
        "<a href=\"https://colab.research.google.com/github/dchung1209/CxC-2023-UWaterloo/blob/main/CxC_project_gang.ipynb\" target=\"_parent\"><img src=\"https://colab.research.google.com/assets/colab-badge.svg\" alt=\"Open In Colab\"/></a>"
      ]
    },
    {
      "cell_type": "markdown",
      "source": [
        "### Reading Data"
      ],
      "metadata": {
        "id": "2LAvbt3vGuPZ"
      }
    },
    {
      "cell_type": "code",
      "execution_count": 225,
      "metadata": {
        "id": "HWjQTF11LXyr",
        "colab": {
          "base_uri": "https://localhost:8080/"
        },
        "outputId": "47dc5ee1-bab9-4920-a30d-30811aef8877"
      },
      "outputs": [
        {
          "output_type": "stream",
          "name": "stdout",
          "text": [
            "Drive already mounted at /content/drive; to attempt to forcibly remount, call drive.mount(\"/content/drive\", force_remount=True).\n"
          ]
        }
      ],
      "source": [
        "import pandas as pd\n",
        "import numpy as np\n",
        "from google.colab import drive\n",
        "drive.mount('/content/drive')"
      ]
    },
    {
      "cell_type": "code",
      "execution_count": 226,
      "metadata": {
        "id": "UkMmdKicLn2L"
      },
      "outputs": [],
      "source": [
        "train_df = pd.read_csv(\"/content/drive/MyDrive/new_train.csv\", index_col=0)\n",
        "test_df = pd.read_csv(\"/content/drive/MyDrive/Intact.csv\", index_col=0)"
      ]
    },
    {
      "cell_type": "markdown",
      "source": [
        "### Train Set Label Distribution"
      ],
      "metadata": {
        "id": "wY2rTtesGott"
      }
    },
    {
      "cell_type": "code",
      "source": [
        "import matplotlib.pyplot as plt"
      ],
      "metadata": {
        "id": "SnVZhR8VG0Hr"
      },
      "execution_count": 224,
      "outputs": []
    },
    {
      "cell_type": "code",
      "source": [
        "train_df.shape"
      ],
      "metadata": {
        "colab": {
          "base_uri": "https://localhost:8080/"
        },
        "id": "avMvRI5IG_dL",
        "outputId": "62493ed8-c3bb-49b8-fb8b-fe612b44dbdc"
      },
      "execution_count": 237,
      "outputs": [
        {
          "output_type": "execute_result",
          "data": {
            "text/plain": [
              "(3969, 3)"
            ]
          },
          "metadata": {},
          "execution_count": 237
        }
      ]
    },
    {
      "cell_type": "code",
      "execution_count": 227,
      "metadata": {
        "id": "W86ATPSKL6oU",
        "colab": {
          "base_uri": "https://localhost:8080/",
          "height": 206
        },
        "outputId": "9fdfadb4-adef-41eb-cefa-448f306762f0"
      },
      "outputs": [
        {
          "output_type": "execute_result",
          "data": {
            "text/plain": [
              "         medical_specialty                                      transcription  \\\n",
              "0   Emergency Room Reports  REASON FOR THE VISIT:,  Very high PT/INR.,HIST...   \n",
              "1                  Surgery  PREOPERATIVE DIAGNOSIS:,  Acetabular fracture ...   \n",
              "2                  Surgery  NAME OF PROCEDURE,1.  Selective coronary angio...   \n",
              "3                Radiology  REFERRING DIAGNOSIS: , Motor neuron disease.,P...   \n",
              "4   Emergency Room Reports  CHIEF COMPLAINT: , Dental pain.,HISTORY OF PRE...   \n",
              "\n",
              "   labels  \n",
              "0       0  \n",
              "1       1  \n",
              "2       1  \n",
              "3       2  \n",
              "4       0  "
            ],
            "text/html": [
              "\n",
              "  <div id=\"df-63eea38f-3c63-4e07-a3cb-736fd255be99\">\n",
              "    <div class=\"colab-df-container\">\n",
              "      <div>\n",
              "<style scoped>\n",
              "    .dataframe tbody tr th:only-of-type {\n",
              "        vertical-align: middle;\n",
              "    }\n",
              "\n",
              "    .dataframe tbody tr th {\n",
              "        vertical-align: top;\n",
              "    }\n",
              "\n",
              "    .dataframe thead th {\n",
              "        text-align: right;\n",
              "    }\n",
              "</style>\n",
              "<table border=\"1\" class=\"dataframe\">\n",
              "  <thead>\n",
              "    <tr style=\"text-align: right;\">\n",
              "      <th></th>\n",
              "      <th>medical_specialty</th>\n",
              "      <th>transcription</th>\n",
              "      <th>labels</th>\n",
              "    </tr>\n",
              "  </thead>\n",
              "  <tbody>\n",
              "    <tr>\n",
              "      <th>0</th>\n",
              "      <td>Emergency Room Reports</td>\n",
              "      <td>REASON FOR THE VISIT:,  Very high PT/INR.,HIST...</td>\n",
              "      <td>0</td>\n",
              "    </tr>\n",
              "    <tr>\n",
              "      <th>1</th>\n",
              "      <td>Surgery</td>\n",
              "      <td>PREOPERATIVE DIAGNOSIS:,  Acetabular fracture ...</td>\n",
              "      <td>1</td>\n",
              "    </tr>\n",
              "    <tr>\n",
              "      <th>2</th>\n",
              "      <td>Surgery</td>\n",
              "      <td>NAME OF PROCEDURE,1.  Selective coronary angio...</td>\n",
              "      <td>1</td>\n",
              "    </tr>\n",
              "    <tr>\n",
              "      <th>3</th>\n",
              "      <td>Radiology</td>\n",
              "      <td>REFERRING DIAGNOSIS: , Motor neuron disease.,P...</td>\n",
              "      <td>2</td>\n",
              "    </tr>\n",
              "    <tr>\n",
              "      <th>4</th>\n",
              "      <td>Emergency Room Reports</td>\n",
              "      <td>CHIEF COMPLAINT: , Dental pain.,HISTORY OF PRE...</td>\n",
              "      <td>0</td>\n",
              "    </tr>\n",
              "  </tbody>\n",
              "</table>\n",
              "</div>\n",
              "      <button class=\"colab-df-convert\" onclick=\"convertToInteractive('df-63eea38f-3c63-4e07-a3cb-736fd255be99')\"\n",
              "              title=\"Convert this dataframe to an interactive table.\"\n",
              "              style=\"display:none;\">\n",
              "        \n",
              "  <svg xmlns=\"http://www.w3.org/2000/svg\" height=\"24px\"viewBox=\"0 0 24 24\"\n",
              "       width=\"24px\">\n",
              "    <path d=\"M0 0h24v24H0V0z\" fill=\"none\"/>\n",
              "    <path d=\"M18.56 5.44l.94 2.06.94-2.06 2.06-.94-2.06-.94-.94-2.06-.94 2.06-2.06.94zm-11 1L8.5 8.5l.94-2.06 2.06-.94-2.06-.94L8.5 2.5l-.94 2.06-2.06.94zm10 10l.94 2.06.94-2.06 2.06-.94-2.06-.94-.94-2.06-.94 2.06-2.06.94z\"/><path d=\"M17.41 7.96l-1.37-1.37c-.4-.4-.92-.59-1.43-.59-.52 0-1.04.2-1.43.59L10.3 9.45l-7.72 7.72c-.78.78-.78 2.05 0 2.83L4 21.41c.39.39.9.59 1.41.59.51 0 1.02-.2 1.41-.59l7.78-7.78 2.81-2.81c.8-.78.8-2.07 0-2.86zM5.41 20L4 18.59l7.72-7.72 1.47 1.35L5.41 20z\"/>\n",
              "  </svg>\n",
              "      </button>\n",
              "      \n",
              "  <style>\n",
              "    .colab-df-container {\n",
              "      display:flex;\n",
              "      flex-wrap:wrap;\n",
              "      gap: 12px;\n",
              "    }\n",
              "\n",
              "    .colab-df-convert {\n",
              "      background-color: #E8F0FE;\n",
              "      border: none;\n",
              "      border-radius: 50%;\n",
              "      cursor: pointer;\n",
              "      display: none;\n",
              "      fill: #1967D2;\n",
              "      height: 32px;\n",
              "      padding: 0 0 0 0;\n",
              "      width: 32px;\n",
              "    }\n",
              "\n",
              "    .colab-df-convert:hover {\n",
              "      background-color: #E2EBFA;\n",
              "      box-shadow: 0px 1px 2px rgba(60, 64, 67, 0.3), 0px 1px 3px 1px rgba(60, 64, 67, 0.15);\n",
              "      fill: #174EA6;\n",
              "    }\n",
              "\n",
              "    [theme=dark] .colab-df-convert {\n",
              "      background-color: #3B4455;\n",
              "      fill: #D2E3FC;\n",
              "    }\n",
              "\n",
              "    [theme=dark] .colab-df-convert:hover {\n",
              "      background-color: #434B5C;\n",
              "      box-shadow: 0px 1px 3px 1px rgba(0, 0, 0, 0.15);\n",
              "      filter: drop-shadow(0px 1px 2px rgba(0, 0, 0, 0.3));\n",
              "      fill: #FFFFFF;\n",
              "    }\n",
              "  </style>\n",
              "\n",
              "      <script>\n",
              "        const buttonEl =\n",
              "          document.querySelector('#df-63eea38f-3c63-4e07-a3cb-736fd255be99 button.colab-df-convert');\n",
              "        buttonEl.style.display =\n",
              "          google.colab.kernel.accessAllowed ? 'block' : 'none';\n",
              "\n",
              "        async function convertToInteractive(key) {\n",
              "          const element = document.querySelector('#df-63eea38f-3c63-4e07-a3cb-736fd255be99');\n",
              "          const dataTable =\n",
              "            await google.colab.kernel.invokeFunction('convertToInteractive',\n",
              "                                                     [key], {});\n",
              "          if (!dataTable) return;\n",
              "\n",
              "          const docLinkHtml = 'Like what you see? Visit the ' +\n",
              "            '<a target=\"_blank\" href=https://colab.research.google.com/notebooks/data_table.ipynb>data table notebook</a>'\n",
              "            + ' to learn more about interactive tables.';\n",
              "          element.innerHTML = '';\n",
              "          dataTable['output_type'] = 'display_data';\n",
              "          await google.colab.output.renderOutput(dataTable, element);\n",
              "          const docLink = document.createElement('div');\n",
              "          docLink.innerHTML = docLinkHtml;\n",
              "          element.appendChild(docLink);\n",
              "        }\n",
              "      </script>\n",
              "    </div>\n",
              "  </div>\n",
              "  "
            ]
          },
          "metadata": {},
          "execution_count": 227
        }
      ],
      "source": [
        "train_df.head()"
      ]
    },
    {
      "cell_type": "code",
      "source": [
        "test_df.head()"
      ],
      "metadata": {
        "id": "QZ21NeprQ7-U",
        "colab": {
          "base_uri": "https://localhost:8080/",
          "height": 206
        },
        "outputId": "b96c99a9-d4ed-4f87-a952-d7b541228419"
      },
      "execution_count": 228,
      "outputs": [
        {
          "output_type": "execute_result",
          "data": {
            "text/plain": [
              "                                       transcription\n",
              "0  PAST MEDICAL CONDITION:,  None.,ALLERGIES:,  N...\n",
              "1  CURRENT HISTORY:,  A 94-year-old female from t...\n",
              "2  TITLE OF PROCEDURE:  ,Coronary artery bypass g...\n",
              "3  PROCEDURE: , Bilateral L5, S1, S2, and S3 radi...\n",
              "4  OPERATIVE PROCEDURES: , Colonoscopy and biopsi..."
            ],
            "text/html": [
              "\n",
              "  <div id=\"df-dab358d2-2c4a-4616-80aa-5deb7c28de3b\">\n",
              "    <div class=\"colab-df-container\">\n",
              "      <div>\n",
              "<style scoped>\n",
              "    .dataframe tbody tr th:only-of-type {\n",
              "        vertical-align: middle;\n",
              "    }\n",
              "\n",
              "    .dataframe tbody tr th {\n",
              "        vertical-align: top;\n",
              "    }\n",
              "\n",
              "    .dataframe thead th {\n",
              "        text-align: right;\n",
              "    }\n",
              "</style>\n",
              "<table border=\"1\" class=\"dataframe\">\n",
              "  <thead>\n",
              "    <tr style=\"text-align: right;\">\n",
              "      <th></th>\n",
              "      <th>transcription</th>\n",
              "    </tr>\n",
              "  </thead>\n",
              "  <tbody>\n",
              "    <tr>\n",
              "      <th>0</th>\n",
              "      <td>PAST MEDICAL CONDITION:,  None.,ALLERGIES:,  N...</td>\n",
              "    </tr>\n",
              "    <tr>\n",
              "      <th>1</th>\n",
              "      <td>CURRENT HISTORY:,  A 94-year-old female from t...</td>\n",
              "    </tr>\n",
              "    <tr>\n",
              "      <th>2</th>\n",
              "      <td>TITLE OF PROCEDURE:  ,Coronary artery bypass g...</td>\n",
              "    </tr>\n",
              "    <tr>\n",
              "      <th>3</th>\n",
              "      <td>PROCEDURE: , Bilateral L5, S1, S2, and S3 radi...</td>\n",
              "    </tr>\n",
              "    <tr>\n",
              "      <th>4</th>\n",
              "      <td>OPERATIVE PROCEDURES: , Colonoscopy and biopsi...</td>\n",
              "    </tr>\n",
              "  </tbody>\n",
              "</table>\n",
              "</div>\n",
              "      <button class=\"colab-df-convert\" onclick=\"convertToInteractive('df-dab358d2-2c4a-4616-80aa-5deb7c28de3b')\"\n",
              "              title=\"Convert this dataframe to an interactive table.\"\n",
              "              style=\"display:none;\">\n",
              "        \n",
              "  <svg xmlns=\"http://www.w3.org/2000/svg\" height=\"24px\"viewBox=\"0 0 24 24\"\n",
              "       width=\"24px\">\n",
              "    <path d=\"M0 0h24v24H0V0z\" fill=\"none\"/>\n",
              "    <path d=\"M18.56 5.44l.94 2.06.94-2.06 2.06-.94-2.06-.94-.94-2.06-.94 2.06-2.06.94zm-11 1L8.5 8.5l.94-2.06 2.06-.94-2.06-.94L8.5 2.5l-.94 2.06-2.06.94zm10 10l.94 2.06.94-2.06 2.06-.94-2.06-.94-.94-2.06-.94 2.06-2.06.94z\"/><path d=\"M17.41 7.96l-1.37-1.37c-.4-.4-.92-.59-1.43-.59-.52 0-1.04.2-1.43.59L10.3 9.45l-7.72 7.72c-.78.78-.78 2.05 0 2.83L4 21.41c.39.39.9.59 1.41.59.51 0 1.02-.2 1.41-.59l7.78-7.78 2.81-2.81c.8-.78.8-2.07 0-2.86zM5.41 20L4 18.59l7.72-7.72 1.47 1.35L5.41 20z\"/>\n",
              "  </svg>\n",
              "      </button>\n",
              "      \n",
              "  <style>\n",
              "    .colab-df-container {\n",
              "      display:flex;\n",
              "      flex-wrap:wrap;\n",
              "      gap: 12px;\n",
              "    }\n",
              "\n",
              "    .colab-df-convert {\n",
              "      background-color: #E8F0FE;\n",
              "      border: none;\n",
              "      border-radius: 50%;\n",
              "      cursor: pointer;\n",
              "      display: none;\n",
              "      fill: #1967D2;\n",
              "      height: 32px;\n",
              "      padding: 0 0 0 0;\n",
              "      width: 32px;\n",
              "    }\n",
              "\n",
              "    .colab-df-convert:hover {\n",
              "      background-color: #E2EBFA;\n",
              "      box-shadow: 0px 1px 2px rgba(60, 64, 67, 0.3), 0px 1px 3px 1px rgba(60, 64, 67, 0.15);\n",
              "      fill: #174EA6;\n",
              "    }\n",
              "\n",
              "    [theme=dark] .colab-df-convert {\n",
              "      background-color: #3B4455;\n",
              "      fill: #D2E3FC;\n",
              "    }\n",
              "\n",
              "    [theme=dark] .colab-df-convert:hover {\n",
              "      background-color: #434B5C;\n",
              "      box-shadow: 0px 1px 3px 1px rgba(0, 0, 0, 0.15);\n",
              "      filter: drop-shadow(0px 1px 2px rgba(0, 0, 0, 0.3));\n",
              "      fill: #FFFFFF;\n",
              "    }\n",
              "  </style>\n",
              "\n",
              "      <script>\n",
              "        const buttonEl =\n",
              "          document.querySelector('#df-dab358d2-2c4a-4616-80aa-5deb7c28de3b button.colab-df-convert');\n",
              "        buttonEl.style.display =\n",
              "          google.colab.kernel.accessAllowed ? 'block' : 'none';\n",
              "\n",
              "        async function convertToInteractive(key) {\n",
              "          const element = document.querySelector('#df-dab358d2-2c4a-4616-80aa-5deb7c28de3b');\n",
              "          const dataTable =\n",
              "            await google.colab.kernel.invokeFunction('convertToInteractive',\n",
              "                                                     [key], {});\n",
              "          if (!dataTable) return;\n",
              "\n",
              "          const docLinkHtml = 'Like what you see? Visit the ' +\n",
              "            '<a target=\"_blank\" href=https://colab.research.google.com/notebooks/data_table.ipynb>data table notebook</a>'\n",
              "            + ' to learn more about interactive tables.';\n",
              "          element.innerHTML = '';\n",
              "          dataTable['output_type'] = 'display_data';\n",
              "          await google.colab.output.renderOutput(dataTable, element);\n",
              "          const docLink = document.createElement('div');\n",
              "          docLink.innerHTML = docLinkHtml;\n",
              "          element.appendChild(docLink);\n",
              "        }\n",
              "      </script>\n",
              "    </div>\n",
              "  </div>\n",
              "  "
            ]
          },
          "metadata": {},
          "execution_count": 228
        }
      ]
    },
    {
      "cell_type": "code",
      "execution_count": 229,
      "metadata": {
        "id": "2ZqZWeWNEbbO",
        "colab": {
          "base_uri": "https://localhost:8080/"
        },
        "outputId": "f1a1b50e-2317-4092-fb56-ebd6e973c817"
      },
      "outputs": [
        {
          "output_type": "stream",
          "name": "stdout",
          "text": [
            "the number of N/A values in trascription is: 0\n"
          ]
        }
      ],
      "source": [
        "print(f\"the number of N/A values in trascription is: {train_df.transcription.isna().sum()}\")"
      ]
    },
    {
      "cell_type": "code",
      "execution_count": 230,
      "metadata": {
        "id": "7YMiAmtjE8gr",
        "colab": {
          "base_uri": "https://localhost:8080/"
        },
        "outputId": "f83d429b-c673-499f-8203-a51e56e5be9a"
      },
      "outputs": [
        {
          "output_type": "stream",
          "name": "stdout",
          "text": [
            "the number of N/A values in medical_specialty is: 0\n"
          ]
        }
      ],
      "source": [
        "print(f\"the number of N/A values in medical_specialty is: {train_df.medical_specialty.isna().sum()}\")"
      ]
    },
    {
      "cell_type": "code",
      "source": [
        "print(f\"the size of data(shape) is: {train_df.shape}\")"
      ],
      "metadata": {
        "id": "xIqwAmQgDhyl",
        "colab": {
          "base_uri": "https://localhost:8080/"
        },
        "outputId": "1a8c4197-ee68-459e-c6dc-9d301644453f"
      },
      "execution_count": 231,
      "outputs": [
        {
          "output_type": "stream",
          "name": "stdout",
          "text": [
            "the size of data(shape) is: (3969, 3)\n"
          ]
        }
      ]
    },
    {
      "cell_type": "code",
      "execution_count": 232,
      "metadata": {
        "id": "z2IlrURtL-9y",
        "colab": {
          "base_uri": "https://localhost:8080/",
          "height": 206
        },
        "outputId": "194d54c1-9a80-42b0-e19a-a071a225b2ff"
      },
      "outputs": [
        {
          "output_type": "execute_result",
          "data": {
            "text/plain": [
              "              medical_specialty  frequency\n",
              "38                      Surgery        863\n",
              "5    Consult - History and Phy.        410\n",
              "3    Cardiovascular / Pulmonary        309\n",
              "27                   Orthopedic        289\n",
              "33                    Radiology        213"
            ],
            "text/html": [
              "\n",
              "  <div id=\"df-6e9dbc90-d3a6-440f-bf91-45961dd781e1\">\n",
              "    <div class=\"colab-df-container\">\n",
              "      <div>\n",
              "<style scoped>\n",
              "    .dataframe tbody tr th:only-of-type {\n",
              "        vertical-align: middle;\n",
              "    }\n",
              "\n",
              "    .dataframe tbody tr th {\n",
              "        vertical-align: top;\n",
              "    }\n",
              "\n",
              "    .dataframe thead th {\n",
              "        text-align: right;\n",
              "    }\n",
              "</style>\n",
              "<table border=\"1\" class=\"dataframe\">\n",
              "  <thead>\n",
              "    <tr style=\"text-align: right;\">\n",
              "      <th></th>\n",
              "      <th>medical_specialty</th>\n",
              "      <th>frequency</th>\n",
              "    </tr>\n",
              "  </thead>\n",
              "  <tbody>\n",
              "    <tr>\n",
              "      <th>38</th>\n",
              "      <td>Surgery</td>\n",
              "      <td>863</td>\n",
              "    </tr>\n",
              "    <tr>\n",
              "      <th>5</th>\n",
              "      <td>Consult - History and Phy.</td>\n",
              "      <td>410</td>\n",
              "    </tr>\n",
              "    <tr>\n",
              "      <th>3</th>\n",
              "      <td>Cardiovascular / Pulmonary</td>\n",
              "      <td>309</td>\n",
              "    </tr>\n",
              "    <tr>\n",
              "      <th>27</th>\n",
              "      <td>Orthopedic</td>\n",
              "      <td>289</td>\n",
              "    </tr>\n",
              "    <tr>\n",
              "      <th>33</th>\n",
              "      <td>Radiology</td>\n",
              "      <td>213</td>\n",
              "    </tr>\n",
              "  </tbody>\n",
              "</table>\n",
              "</div>\n",
              "      <button class=\"colab-df-convert\" onclick=\"convertToInteractive('df-6e9dbc90-d3a6-440f-bf91-45961dd781e1')\"\n",
              "              title=\"Convert this dataframe to an interactive table.\"\n",
              "              style=\"display:none;\">\n",
              "        \n",
              "  <svg xmlns=\"http://www.w3.org/2000/svg\" height=\"24px\"viewBox=\"0 0 24 24\"\n",
              "       width=\"24px\">\n",
              "    <path d=\"M0 0h24v24H0V0z\" fill=\"none\"/>\n",
              "    <path d=\"M18.56 5.44l.94 2.06.94-2.06 2.06-.94-2.06-.94-.94-2.06-.94 2.06-2.06.94zm-11 1L8.5 8.5l.94-2.06 2.06-.94-2.06-.94L8.5 2.5l-.94 2.06-2.06.94zm10 10l.94 2.06.94-2.06 2.06-.94-2.06-.94-.94-2.06-.94 2.06-2.06.94z\"/><path d=\"M17.41 7.96l-1.37-1.37c-.4-.4-.92-.59-1.43-.59-.52 0-1.04.2-1.43.59L10.3 9.45l-7.72 7.72c-.78.78-.78 2.05 0 2.83L4 21.41c.39.39.9.59 1.41.59.51 0 1.02-.2 1.41-.59l7.78-7.78 2.81-2.81c.8-.78.8-2.07 0-2.86zM5.41 20L4 18.59l7.72-7.72 1.47 1.35L5.41 20z\"/>\n",
              "  </svg>\n",
              "      </button>\n",
              "      \n",
              "  <style>\n",
              "    .colab-df-container {\n",
              "      display:flex;\n",
              "      flex-wrap:wrap;\n",
              "      gap: 12px;\n",
              "    }\n",
              "\n",
              "    .colab-df-convert {\n",
              "      background-color: #E8F0FE;\n",
              "      border: none;\n",
              "      border-radius: 50%;\n",
              "      cursor: pointer;\n",
              "      display: none;\n",
              "      fill: #1967D2;\n",
              "      height: 32px;\n",
              "      padding: 0 0 0 0;\n",
              "      width: 32px;\n",
              "    }\n",
              "\n",
              "    .colab-df-convert:hover {\n",
              "      background-color: #E2EBFA;\n",
              "      box-shadow: 0px 1px 2px rgba(60, 64, 67, 0.3), 0px 1px 3px 1px rgba(60, 64, 67, 0.15);\n",
              "      fill: #174EA6;\n",
              "    }\n",
              "\n",
              "    [theme=dark] .colab-df-convert {\n",
              "      background-color: #3B4455;\n",
              "      fill: #D2E3FC;\n",
              "    }\n",
              "\n",
              "    [theme=dark] .colab-df-convert:hover {\n",
              "      background-color: #434B5C;\n",
              "      box-shadow: 0px 1px 3px 1px rgba(0, 0, 0, 0.15);\n",
              "      filter: drop-shadow(0px 1px 2px rgba(0, 0, 0, 0.3));\n",
              "      fill: #FFFFFF;\n",
              "    }\n",
              "  </style>\n",
              "\n",
              "      <script>\n",
              "        const buttonEl =\n",
              "          document.querySelector('#df-6e9dbc90-d3a6-440f-bf91-45961dd781e1 button.colab-df-convert');\n",
              "        buttonEl.style.display =\n",
              "          google.colab.kernel.accessAllowed ? 'block' : 'none';\n",
              "\n",
              "        async function convertToInteractive(key) {\n",
              "          const element = document.querySelector('#df-6e9dbc90-d3a6-440f-bf91-45961dd781e1');\n",
              "          const dataTable =\n",
              "            await google.colab.kernel.invokeFunction('convertToInteractive',\n",
              "                                                     [key], {});\n",
              "          if (!dataTable) return;\n",
              "\n",
              "          const docLinkHtml = 'Like what you see? Visit the ' +\n",
              "            '<a target=\"_blank\" href=https://colab.research.google.com/notebooks/data_table.ipynb>data table notebook</a>'\n",
              "            + ' to learn more about interactive tables.';\n",
              "          element.innerHTML = '';\n",
              "          dataTable['output_type'] = 'display_data';\n",
              "          await google.colab.output.renderOutput(dataTable, element);\n",
              "          const docLink = document.createElement('div');\n",
              "          docLink.innerHTML = docLinkHtml;\n",
              "          element.appendChild(docLink);\n",
              "        }\n",
              "      </script>\n",
              "    </div>\n",
              "  </div>\n",
              "  "
            ]
          },
          "metadata": {},
          "execution_count": 232
        }
      ],
      "source": [
        "freq = train_df.groupby('medical_specialty').count().reset_index()[['medical_specialty', 'transcription']].sort_values(by='transcription', ascending=False).rename(columns = {'transcription' : 'frequency'})\n",
        "freq.head()"
      ]
    },
    {
      "cell_type": "code",
      "source": [
        "data = freq.frequency.tolist()\n",
        "df = freq.medical_specialty.tolist()\n",
        "plt.figure(figsize=(25,15))\n",
        "\n",
        "font_title = {\n",
        "         'color': 'white',\n",
        "         'weight': 'normal',\n",
        "         'size': 'xx-large'\n",
        "         }\n",
        "         \n",
        "plt.barh(df, data)\n",
        "plt.title('store inventory')\n",
        "plt.ylabel('medical_specialty')\n",
        "plt.xlabel('frequency')\n",
        "plt.title('medical_specialty frequency', fontdict = font_title)\n",
        "plt.show()"
      ],
      "metadata": {
        "colab": {
          "base_uri": "https://localhost:8080/",
          "height": 897
        },
        "id": "EP9Ww7-CGc8B",
        "outputId": "484bfe42-677b-4765-931b-3d039a70cffa"
      },
      "execution_count": 233,
      "outputs": [
        {
          "output_type": "display_data",
          "data": {
            "text/plain": [
              "<Figure size 1800x1080 with 1 Axes>"
            ],
            "image/png": "[encoded data removed]"
          },
          "metadata": {
            "needs_background": "light"
          }
        }
      ]
    },
    {
      "cell_type": "code",
      "execution_count": 234,
      "metadata": {
        "id": "bsASoGkZMG9m"
      },
      "outputs": [],
      "source": [
        "word = pd.DataFrame({'medical_specialty': train_df['medical_specialty'], 'word_count': train_df[\"transcription\"].apply(lambda n: len(n.split()))})"
      ]
    },
    {
      "cell_type": "code",
      "execution_count": 235,
      "metadata": {
        "id": "R-PpICc9MKwd",
        "colab": {
          "base_uri": "https://localhost:8080/",
          "height": 1000
        },
        "outputId": "69ef96b6-15c3-45ba-e6cb-d402e69cd0e4"
      },
      "outputs": [
        {
          "output_type": "execute_result",
          "data": {
            "text/plain": [
              "                 medical_specialty   word_count  frequency\n",
              "0                          Autopsy  1352.428571          7\n",
              "1           IME-QME-Work Comp etc.  1230.916667         12\n",
              "2                     Chiropractic   978.666667         12\n",
              "3          Psychiatry / Psychology   794.622222         45\n",
              "4        Hospice - Palliative Care   676.166667          6\n",
              "5                    Endocrinology   639.812500         16\n",
              "6                     Neurosurgery   567.577465         71\n",
              "7                       Orthopedic   562.560554        289\n",
              "8           Emergency Room Reports   561.285714         63\n",
              "9       Consult - History and Phy.   560.182927        410\n",
              "10      Cosmetic / Plastic Surgery   533.631579         19\n",
              "11                       Neurology   514.170588        170\n",
              "12                        Podiatry   507.342857         35\n",
              "13                       Dentistry   504.619048         21\n",
              "14            Allergy / Immunology   498.500000          6\n",
              "15                    Rheumatology   496.500000          6\n",
              "16                         Surgery   481.348783        863\n",
              "17                General Medicine   469.894737        209\n",
              "18         Obstetrics / Gynecology   450.788618        123\n",
              "19                         Letters   450.000000         19\n",
              "20      Cardiovascular / Pulmonary   447.527508        309\n",
              "21            ENT - Otolaryngology   444.975610         82\n",
              "22       Physical Medicine - Rehab   439.937500         16\n",
              "23               Speech - Language   438.125000          8\n",
              "24           Pediatrics - Neonatal   425.600000         55\n",
              "25                     Dermatology   424.619048         21\n",
              "26           Hematology - Oncology   418.852941         68\n",
              "27                      Nephrology   417.492063         63\n",
              "28               Discharge Summary   415.609195         87\n",
              "29                         Urology   408.052239        134\n",
              "30                      Bariatrics   404.400000         15\n",
              "31            Diets and Nutritions   367.111111          9\n",
              "32                   Ophthalmology   358.074627         67\n",
              "33   SOAP / Chart / Progress Notes   357.800000        135\n",
              "34                Gastroenterology   357.284091        176\n",
              "35                  Sleep Medicine   321.666667         12\n",
              "36                       Radiology   270.699531        213\n",
              "37                    Office Notes   251.631579         38\n",
              "38                 Pain Management   229.666667         54\n",
              "39        Lab Medicine - Pathology   209.400000          5"
            ],
            "text/html": [
              "\n",
              "  <div id=\"df-8bdc7a4b-7295-4298-b52f-435139ec6410\">\n",
              "    <div class=\"colab-df-container\">\n",
              "      <div>\n",
              "<style scoped>\n",
              "    .dataframe tbody tr th:only-of-type {\n",
              "        vertical-align: middle;\n",
              "    }\n",
              "\n",
              "    .dataframe tbody tr th {\n",
              "        vertical-align: top;\n",
              "    }\n",
              "\n",
              "    .dataframe thead th {\n",
              "        text-align: right;\n",
              "    }\n",
              "</style>\n",
              "<table border=\"1\" class=\"dataframe\">\n",
              "  <thead>\n",
              "    <tr style=\"text-align: right;\">\n",
              "      <th></th>\n",
              "      <th>medical_specialty</th>\n",
              "      <th>word_count</th>\n",
              "      <th>frequency</th>\n",
              "    </tr>\n",
              "  </thead>\n",
              "  <tbody>\n",
              "    <tr>\n",
              "      <th>0</th>\n",
              "      <td>Autopsy</td>\n",
              "      <td>1352.428571</td>\n",
              "      <td>7</td>\n",
              "    </tr>\n",
              "    <tr>\n",
              "      <th>1</th>\n",
              "      <td>IME-QME-Work Comp etc.</td>\n",
              "      <td>1230.916667</td>\n",
              "      <td>12</td>\n",
              "    </tr>\n",
              "    <tr>\n",
              "      <th>2</th>\n",
              "      <td>Chiropractic</td>\n",
              "      <td>978.666667</td>\n",
              "      <td>12</td>\n",
              "    </tr>\n",
              "    <tr>\n",
              "      <th>3</th>\n",
              "      <td>Psychiatry / Psychology</td>\n",
              "      <td>794.622222</td>\n",
              "      <td>45</td>\n",
              "    </tr>\n",
              "    <tr>\n",
              "      <th>4</th>\n",
              "      <td>Hospice - Palliative Care</td>\n",
              "      <td>676.166667</td>\n",
              "      <td>6</td>\n",
              "    </tr>\n",
              "    <tr>\n",
              "      <th>5</th>\n",
              "      <td>Endocrinology</td>\n",
              "      <td>639.812500</td>\n",
              "      <td>16</td>\n",
              "    </tr>\n",
              "    <tr>\n",
              "      <th>6</th>\n",
              "      <td>Neurosurgery</td>\n",
              "      <td>567.577465</td>\n",
              "      <td>71</td>\n",
              "    </tr>\n",
              "    <tr>\n",
              "      <th>7</th>\n",
              "      <td>Orthopedic</td>\n",
              "      <td>562.560554</td>\n",
              "      <td>289</td>\n",
              "    </tr>\n",
              "    <tr>\n",
              "      <th>8</th>\n",
              "      <td>Emergency Room Reports</td>\n",
              "      <td>561.285714</td>\n",
              "      <td>63</td>\n",
              "    </tr>\n",
              "    <tr>\n",
              "      <th>9</th>\n",
              "      <td>Consult - History and Phy.</td>\n",
              "      <td>560.182927</td>\n",
              "      <td>410</td>\n",
              "    </tr>\n",
              "    <tr>\n",
              "      <th>10</th>\n",
              "      <td>Cosmetic / Plastic Surgery</td>\n",
              "      <td>533.631579</td>\n",
              "      <td>19</td>\n",
              "    </tr>\n",
              "    <tr>\n",
              "      <th>11</th>\n",
              "      <td>Neurology</td>\n",
              "      <td>514.170588</td>\n",
              "      <td>170</td>\n",
              "    </tr>\n",
              "    <tr>\n",
              "      <th>12</th>\n",
              "      <td>Podiatry</td>\n",
              "      <td>507.342857</td>\n",
              "      <td>35</td>\n",
              "    </tr>\n",
              "    <tr>\n",
              "      <th>13</th>\n",
              "      <td>Dentistry</td>\n",
              "      <td>504.619048</td>\n",
              "      <td>21</td>\n",
              "    </tr>\n",
              "    <tr>\n",
              "      <th>14</th>\n",
              "      <td>Allergy / Immunology</td>\n",
              "      <td>498.500000</td>\n",
              "      <td>6</td>\n",
              "    </tr>\n",
              "    <tr>\n",
              "      <th>15</th>\n",
              "      <td>Rheumatology</td>\n",
              "      <td>496.500000</td>\n",
              "      <td>6</td>\n",
              "    </tr>\n",
              "    <tr>\n",
              "      <th>16</th>\n",
              "      <td>Surgery</td>\n",
              "      <td>481.348783</td>\n",
              "      <td>863</td>\n",
              "    </tr>\n",
              "    <tr>\n",
              "      <th>17</th>\n",
              "      <td>General Medicine</td>\n",
              "      <td>469.894737</td>\n",
              "      <td>209</td>\n",
              "    </tr>\n",
              "    <tr>\n",
              "      <th>18</th>\n",
              "      <td>Obstetrics / Gynecology</td>\n",
              "      <td>450.788618</td>\n",
              "      <td>123</td>\n",
              "    </tr>\n",
              "    <tr>\n",
              "      <th>19</th>\n",
              "      <td>Letters</td>\n",
              "      <td>450.000000</td>\n",
              "      <td>19</td>\n",
              "    </tr>\n",
              "    <tr>\n",
              "      <th>20</th>\n",
              "      <td>Cardiovascular / Pulmonary</td>\n",
              "      <td>447.527508</td>\n",
              "      <td>309</td>\n",
              "    </tr>\n",
              "    <tr>\n",
              "      <th>21</th>\n",
              "      <td>ENT - Otolaryngology</td>\n",
              "      <td>444.975610</td>\n",
              "      <td>82</td>\n",
              "    </tr>\n",
              "    <tr>\n",
              "      <th>22</th>\n",
              "      <td>Physical Medicine - Rehab</td>\n",
              "      <td>439.937500</td>\n",
              "      <td>16</td>\n",
              "    </tr>\n",
              "    <tr>\n",
              "      <th>23</th>\n",
              "      <td>Speech - Language</td>\n",
              "      <td>438.125000</td>\n",
              "      <td>8</td>\n",
              "    </tr>\n",
              "    <tr>\n",
              "      <th>24</th>\n",
              "      <td>Pediatrics - Neonatal</td>\n",
              "      <td>425.600000</td>\n",
              "      <td>55</td>\n",
              "    </tr>\n",
              "    <tr>\n",
              "      <th>25</th>\n",
              "      <td>Dermatology</td>\n",
              "      <td>424.619048</td>\n",
              "      <td>21</td>\n",
              "    </tr>\n",
              "    <tr>\n",
              "      <th>26</th>\n",
              "      <td>Hematology - Oncology</td>\n",
              "      <td>418.852941</td>\n",
              "      <td>68</td>\n",
              "    </tr>\n",
              "    <tr>\n",
              "      <th>27</th>\n",
              "      <td>Nephrology</td>\n",
              "      <td>417.492063</td>\n",
              "      <td>63</td>\n",
              "    </tr>\n",
              "    <tr>\n",
              "      <th>28</th>\n",
              "      <td>Discharge Summary</td>\n",
              "      <td>415.609195</td>\n",
              "      <td>87</td>\n",
              "    </tr>\n",
              "    <tr>\n",
              "      <th>29</th>\n",
              "      <td>Urology</td>\n",
              "      <td>408.052239</td>\n",
              "      <td>134</td>\n",
              "    </tr>\n",
              "    <tr>\n",
              "      <th>30</th>\n",
              "      <td>Bariatrics</td>\n",
              "      <td>404.400000</td>\n",
              "      <td>15</td>\n",
              "    </tr>\n",
              "    <tr>\n",
              "      <th>31</th>\n",
              "      <td>Diets and Nutritions</td>\n",
              "      <td>367.111111</td>\n",
              "      <td>9</td>\n",
              "    </tr>\n",
              "    <tr>\n",
              "      <th>32</th>\n",
              "      <td>Ophthalmology</td>\n",
              "      <td>358.074627</td>\n",
              "      <td>67</td>\n",
              "    </tr>\n",
              "    <tr>\n",
              "      <th>33</th>\n",
              "      <td>SOAP / Chart / Progress Notes</td>\n",
              "      <td>357.800000</td>\n",
              "      <td>135</td>\n",
              "    </tr>\n",
              "    <tr>\n",
              "      <th>34</th>\n",
              "      <td>Gastroenterology</td>\n",
              "      <td>357.284091</td>\n",
              "      <td>176</td>\n",
              "    </tr>\n",
              "    <tr>\n",
              "      <th>35</th>\n",
              "      <td>Sleep Medicine</td>\n",
              "      <td>321.666667</td>\n",
              "      <td>12</td>\n",
              "    </tr>\n",
              "    <tr>\n",
              "      <th>36</th>\n",
              "      <td>Radiology</td>\n",
              "      <td>270.699531</td>\n",
              "      <td>213</td>\n",
              "    </tr>\n",
              "    <tr>\n",
              "      <th>37</th>\n",
              "      <td>Office Notes</td>\n",
              "      <td>251.631579</td>\n",
              "      <td>38</td>\n",
              "    </tr>\n",
              "    <tr>\n",
              "      <th>38</th>\n",
              "      <td>Pain Management</td>\n",
              "      <td>229.666667</td>\n",
              "      <td>54</td>\n",
              "    </tr>\n",
              "    <tr>\n",
              "      <th>39</th>\n",
              "      <td>Lab Medicine - Pathology</td>\n",
              "      <td>209.400000</td>\n",
              "      <td>5</td>\n",
              "    </tr>\n",
              "  </tbody>\n",
              "</table>\n",
              "</div>\n",
              "      <button class=\"colab-df-convert\" onclick=\"convertToInteractive('df-8bdc7a4b-7295-4298-b52f-435139ec6410')\"\n",
              "              title=\"Convert this dataframe to an interactive table.\"\n",
              "              style=\"display:none;\">\n",
              "        \n",
              "  <svg xmlns=\"http://www.w3.org/2000/svg\" height=\"24px\"viewBox=\"0 0 24 24\"\n",
              "       width=\"24px\">\n",
              "    <path d=\"M0 0h24v24H0V0z\" fill=\"none\"/>\n",
              "    <path d=\"M18.56 5.44l.94 2.06.94-2.06 2.06-.94-2.06-.94-.94-2.06-.94 2.06-2.06.94zm-11 1L8.5 8.5l.94-2.06 2.06-.94-2.06-.94L8.5 2.5l-.94 2.06-2.06.94zm10 10l.94 2.06.94-2.06 2.06-.94-2.06-.94-.94-2.06-.94 2.06-2.06.94z\"/><path d=\"M17.41 7.96l-1.37-1.37c-.4-.4-.92-.59-1.43-.59-.52 0-1.04.2-1.43.59L10.3 9.45l-7.72 7.72c-.78.78-.78 2.05 0 2.83L4 21.41c.39.39.9.59 1.41.59.51 0 1.02-.2 1.41-.59l7.78-7.78 2.81-2.81c.8-.78.8-2.07 0-2.86zM5.41 20L4 18.59l7.72-7.72 1.47 1.35L5.41 20z\"/>\n",
              "  </svg>\n",
              "      </button>\n",
              "      \n",
              "  <style>\n",
              "    .colab-df-container {\n",
              "      display:flex;\n",
              "      flex-wrap:wrap;\n",
              "      gap: 12px;\n",
              "    }\n",
              "\n",
              "    .colab-df-convert {\n",
              "      background-color: #E8F0FE;\n",
              "      border: none;\n",
              "      border-radius: 50%;\n",
              "      cursor: pointer;\n",
              "      display: none;\n",
              "      fill: #1967D2;\n",
              "      height: 32px;\n",
              "      padding: 0 0 0 0;\n",
              "      width: 32px;\n",
              "    }\n",
              "\n",
              "    .colab-df-convert:hover {\n",
              "      background-color: #E2EBFA;\n",
              "      box-shadow: 0px 1px 2px rgba(60, 64, 67, 0.3), 0px 1px 3px 1px rgba(60, 64, 67, 0.15);\n",
              "      fill: #174EA6;\n",
              "    }\n",
              "\n",
              "    [theme=dark] .colab-df-convert {\n",
              "      background-color: #3B4455;\n",
              "      fill: #D2E3FC;\n",
              "    }\n",
              "\n",
              "    [theme=dark] .colab-df-convert:hover {\n",
              "      background-color: #434B5C;\n",
              "      box-shadow: 0px 1px 3px 1px rgba(0, 0, 0, 0.15);\n",
              "      filter: drop-shadow(0px 1px 2px rgba(0, 0, 0, 0.3));\n",
              "      fill: #FFFFFF;\n",
              "    }\n",
              "  </style>\n",
              "\n",
              "      <script>\n",
              "        const buttonEl =\n",
              "          document.querySelector('#df-8bdc7a4b-7295-4298-b52f-435139ec6410 button.colab-df-convert');\n",
              "        buttonEl.style.display =\n",
              "          google.colab.kernel.accessAllowed ? 'block' : 'none';\n",
              "\n",
              "        async function convertToInteractive(key) {\n",
              "          const element = document.querySelector('#df-8bdc7a4b-7295-4298-b52f-435139ec6410');\n",
              "          const dataTable =\n",
              "            await google.colab.kernel.invokeFunction('convertToInteractive',\n",
              "                                                     [key], {});\n",
              "          if (!dataTable) return;\n",
              "\n",
              "          const docLinkHtml = 'Like what you see? Visit the ' +\n",
              "            '<a target=\"_blank\" href=https://colab.research.google.com/notebooks/data_table.ipynb>data table notebook</a>'\n",
              "            + ' to learn more about interactive tables.';\n",
              "          element.innerHTML = '';\n",
              "          dataTable['output_type'] = 'display_data';\n",
              "          await google.colab.output.renderOutput(dataTable, element);\n",
              "          const docLink = document.createElement('div');\n",
              "          docLink.innerHTML = docLinkHtml;\n",
              "          element.appendChild(docLink);\n",
              "        }\n",
              "      </script>\n",
              "    </div>\n",
              "  </div>\n",
              "  "
            ]
          },
          "metadata": {},
          "execution_count": 235
        }
      ],
      "source": [
        "word.groupby('medical_specialty').mean().reset_index().sort_values(by='word_count', ascending=False).merge(freq, how='inner')"
      ]
    },
    {
      "cell_type": "markdown",
      "source": [
        "### Cleaning"
      ],
      "metadata": {
        "id": "kkDWSAKZSufw"
      }
    },
    {
      "cell_type": "code",
      "source": [
        "import nltk\n",
        "from nltk.corpus import stopwords\n",
        "import re\n",
        "nltk.download('stopwords')"
      ],
      "metadata": {
        "colab": {
          "base_uri": "https://localhost:8080/"
        },
        "id": "22bglNf3GS1f",
        "outputId": "8aee49d6-b314-4fca-8ba4-bcd279651b86"
      },
      "execution_count": 236,
      "outputs": [
        {
          "output_type": "stream",
          "name": "stderr",
          "text": [
            "[nltk_data] Downloading package stopwords to /root/nltk_data...\n",
            "[nltk_data]   Package stopwords is already up-to-date!\n"
          ]
        },
        {
          "output_type": "execute_result",
          "data": {
            "text/plain": [
              "True"
            ]
          },
          "metadata": {},
          "execution_count": 236
        }
      ]
    },
    {
      "cell_type": "code",
      "source": [
        "def basic_cleaner(transcription):\n",
        "  # Lower Case\n",
        "  transcription = transcription.lower()\n",
        "  # Remove numbers and special characters\n",
        "  transcription = re.sub('[^a-zA-Z \\n]', '', transcription)\n",
        "  return transcription"
      ],
      "metadata": {
        "id": "K82r8stvGO1g"
      },
      "execution_count": 220,
      "outputs": []
    },
    {
      "cell_type": "code",
      "source": [
        "def stop_words_removal(transcription):\n",
        "  pattern = re.compile(r'\\b(' + r'|'.join(stopwords.words('english')) + r')\\b\\s*')\n",
        "  text = pattern.sub('', transcription)\n",
        "  return text"
      ],
      "metadata": {
        "id": "q4m2kR3lGQuE"
      },
      "execution_count": 221,
      "outputs": []
    },
    {
      "cell_type": "code",
      "source": [
        "train_df['transcription'] = train_df['transcription'].apply(basic_cleaner)\n",
        "train_df['transcription'] = train_df['transcription'].apply(stop_words_removal)"
      ],
      "metadata": {
        "id": "YrUNMoNCGVLu"
      },
      "execution_count": 222,
      "outputs": []
    },
    {
      "cell_type": "markdown",
      "source": [
        "### Training"
      ],
      "metadata": {
        "id": "unmcCjWNfcxX"
      }
    },
    {
      "cell_type": "code",
      "source": [
        "from sklearn.model_selection import train_test_split\n",
        "from sklearn.metrics import f1_score\n",
        "from sklearn.decomposition import PCA\n",
        "from sklearn.manifold import TSNE\n",
        "from sklearn.linear_model import LogisticRegression\n",
        "from sklearn.metrics import classification_report"
      ],
      "metadata": {
        "id": "7LqyFMw1GJlA"
      },
      "execution_count": null,
      "outputs": []
    },
    {
      "cell_type": "code",
      "source": [
        "labels = train_df['medical_specialty'].to_list()\n",
        "category = train_df['medical_specialty'].unique()"
      ],
      "metadata": {
        "id": "GkbGjP62AW6A"
      },
      "execution_count": 196,
      "outputs": []
    },
    {
      "cell_type": "code",
      "source": [
        "def tfidf(transcription):\n",
        "  from sklearn.feature_extraction.text import TfidfVectorizer\n",
        "  from sklearn.metrics.pairwise import cosine_similarity\n",
        "  tfidf = TfidfVectorizer(analyzer='word', stop_words='english', ngram_range=(1, 2), max_df = 0.75, min_df = 0.05, max_features= 500)\n",
        "  tfidf_matrix  = tfidf.fit_transform(transcription)\n",
        "  print(f\"The size of TF-IDF(shape) is : {tfidf_matrix.shape}\")\n",
        "  return tfidf_matrix"
      ],
      "metadata": {
        "id": "y7m50MRYK5pp"
      },
      "execution_count": 211,
      "outputs": []
    },
    {
      "cell_type": "code",
      "source": [
        "result = tfidf(train_df['transcription'])"
      ],
      "metadata": {
        "colab": {
          "base_uri": "https://localhost:8080/"
        },
        "id": "IvkvX9zCLFM-",
        "outputId": "1ec480f1-1f75-40f9-e2b7-681a9be74716"
      },
      "execution_count": 212,
      "outputs": [
        {
          "output_type": "stream",
          "name": "stdout",
          "text": [
            "The size of TF-IDF(shape) is : (3969, 500)\n"
          ]
        }
      ]
    },
    {
      "cell_type": "code",
      "source": [
        "X_train, X_test, y_train, y_test = train_test_split(result, labels, stratify = labels, random_state = 1)  "
      ],
      "metadata": {
        "id": "g_Mfq3zo_Lyy"
      },
      "execution_count": 213,
      "outputs": []
    },
    {
      "cell_type": "code",
      "execution_count": 214,
      "metadata": {
        "id": "XvfVw4rSZnsi",
        "colab": {
          "base_uri": "https://localhost:8080/"
        },
        "outputId": "d52335e8-282e-41f4-f0d0-ee6f6aab2455"
      },
      "outputs": [
        {
          "output_type": "stream",
          "name": "stderr",
          "text": [
            "/usr/local/lib/python3.8/dist-packages/sklearn/linear_model/_sag.py:352: ConvergenceWarning: The max_iter was reached which means the coef_ did not converge\n",
            "  warnings.warn(\n"
          ]
        }
      ],
      "source": [
        "clf = LogisticRegression(penalty= 'elasticnet', solver= 'saga', l1_ratio=0.5, random_state=1).fit(X_train, y_train)"
      ]
    },
    {
      "cell_type": "code",
      "source": [
        "y_test_pred = clf.predict(X_test)"
      ],
      "metadata": {
        "id": "cndLATgGCiAU"
      },
      "execution_count": 215,
      "outputs": []
    },
    {
      "cell_type": "code",
      "execution_count": 216,
      "metadata": {
        "id": "H3VhnE-JZvpK",
        "colab": {
          "base_uri": "https://localhost:8080/"
        },
        "outputId": "e2972ee3-23c2-4251-e8fd-1f4d0e7e327b"
      },
      "outputs": [
        {
          "output_type": "stream",
          "name": "stdout",
          "text": [
            "                                precision    recall  f1-score   support\n",
            "\n",
            "        Emergency Room Reports       0.17      0.06      0.09        16\n",
            "                       Surgery       0.42      0.75      0.54       216\n",
            "                     Radiology       0.24      0.23      0.24        53\n",
            "                      Podiatry       0.00      0.00      0.00         9\n",
            "                     Neurology       0.30      0.30      0.30        43\n",
            "              Gastroenterology       0.38      0.18      0.25        44\n",
            "                    Orthopedic       0.21      0.21      0.21        72\n",
            "    Cardiovascular / Pulmonary       0.34      0.31      0.32        77\n",
            "                    Nephrology       0.50      0.25      0.33        16\n",
            "          ENT - Otolaryngology       0.33      0.05      0.08        21\n",
            "              General Medicine       0.11      0.08      0.09        52\n",
            "         Hematology - Oncology       0.00      0.00      0.00        17\n",
            "    Cosmetic / Plastic Surgery       0.00      0.00      0.00         5\n",
            " SOAP / Chart / Progress Notes       0.30      0.18      0.22        34\n",
            "                  Chiropractic       0.00      0.00      0.00         3\n",
            "       Psychiatry / Psychology       1.00      0.09      0.17        11\n",
            "    Consult - History and Phy.       0.33      0.65      0.44       103\n",
            "     Hospice - Palliative Care       0.00      0.00      0.00         1\n",
            "                  Neurosurgery       0.00      0.00      0.00        18\n",
            "       Obstetrics / Gynecology       0.20      0.03      0.06        31\n",
            "                       Urology       0.25      0.09      0.13        34\n",
            "             Discharge Summary       0.42      0.50      0.46        22\n",
            "                       Autopsy       0.00      0.00      0.00         2\n",
            "                   Dermatology       0.00      0.00      0.00         5\n",
            "                       Letters       0.00      0.00      0.00         5\n",
            "                  Office Notes       0.00      0.00      0.00         9\n",
            "      Lab Medicine - Pathology       0.00      0.00      0.00         1\n",
            "                 Ophthalmology       0.56      0.29      0.38        17\n",
            "             Speech - Language       0.00      0.00      0.00         2\n",
            "                     Dentistry       0.00      0.00      0.00         5\n",
            "         Pediatrics - Neonatal       0.00      0.00      0.00        14\n",
            "     Physical Medicine - Rehab       0.00      0.00      0.00         4\n",
            "                    Bariatrics       0.00      0.00      0.00         4\n",
            "                 Endocrinology       0.00      0.00      0.00         4\n",
            "               Pain Management       0.20      0.15      0.17        13\n",
            "        IME-QME-Work Comp etc.       0.00      0.00      0.00         3\n",
            "          Allergy / Immunology       0.00      0.00      0.00         1\n",
            "                Sleep Medicine       0.67      0.67      0.67         3\n",
            "          Diets and Nutritions       0.00      0.00      0.00         2\n",
            "                  Rheumatology       0.00      0.00      0.00         1\n",
            "\n",
            "                      accuracy                           0.34       993\n",
            "                     macro avg       0.17      0.13      0.13       993\n",
            "                  weighted avg       0.29      0.34      0.29       993\n",
            "\n"
          ]
        },
        {
          "output_type": "stream",
          "name": "stderr",
          "text": [
            "/usr/local/lib/python3.8/dist-packages/sklearn/metrics/_classification.py:1318: UndefinedMetricWarning: Precision and F-score are ill-defined and being set to 0.0 in labels with no predicted samples. Use `zero_division` parameter to control this behavior.\n",
            "  _warn_prf(average, modifier, msg_start, len(result))\n",
            "/usr/local/lib/python3.8/dist-packages/sklearn/metrics/_classification.py:1318: UndefinedMetricWarning: Precision and F-score are ill-defined and being set to 0.0 in labels with no predicted samples. Use `zero_division` parameter to control this behavior.\n",
            "  _warn_prf(average, modifier, msg_start, len(result))\n",
            "/usr/local/lib/python3.8/dist-packages/sklearn/metrics/_classification.py:1318: UndefinedMetricWarning: Precision and F-score are ill-defined and being set to 0.0 in labels with no predicted samples. Use `zero_division` parameter to control this behavior.\n",
            "  _warn_prf(average, modifier, msg_start, len(result))\n"
          ]
        }
      ],
      "source": [
        "print(classification_report(y_test , y_test_pred, labels=category))"
      ]
    },
    {
      "cell_type": "markdown",
      "source": [
        "### Making Inference on the Test Set"
      ],
      "metadata": {
        "id": "bwwtK2e2EVBp"
      }
    },
    {
      "cell_type": "code",
      "source": [
        "test_df['transcription'] = test_df['transcription'].apply(basic_cleaner)\n",
        "test_df['transcription'] = test_df['transcription'].apply(stop_words_removal)\n",
        "y_test_pred = clf.predict(tfidf(test_df['transcription']))"
      ],
      "metadata": {
        "colab": {
          "base_uri": "https://localhost:8080/"
        },
        "id": "h4kqyEHYEUtU",
        "outputId": "5d9dc5c7-6475-484c-b592-8e0178e294ca"
      },
      "execution_count": 217,
      "outputs": [
        {
          "output_type": "stream",
          "name": "stdout",
          "text": [
            "The size of TF-IDF(shape) is : (997, 500)\n"
          ]
        }
      ]
    },
    {
      "cell_type": "code",
      "source": [
        "from google.colab import files\n",
        "a = pd.Series(y_test_pred)\n",
        "a.name = \"Predicted\"\n",
        "files.download(\"Predicted.csv\")"
      ],
      "metadata": {
        "colab": {
          "base_uri": "https://localhost:8080/",
          "height": 17
        },
        "id": "Md7csHlhEt5S",
        "outputId": "e22253ba-9507-4c77-e002-0afc1f3dd3f9"
      },
      "execution_count": 218,
      "outputs": [
        {
          "output_type": "display_data",
          "data": {
            "text/plain": [
              "<IPython.core.display.Javascript object>"
            ],
            "application/javascript": [
              "\n",
              "    async function download(id, filename, size) {\n",
              "      if (!google.colab.kernel.accessAllowed) {\n",
              "        return;\n",
              "      }\n",
              "      const div = document.createElement('div');\n",
              "      const label = document.createElement('label');\n",
              "      label.textContent = `Downloading \"${filename}\": `;\n",
              "      div.appendChild(label);\n",
              "      const progress = document.createElement('progress');\n",
              "      progress.max = size;\n",
              "      div.appendChild(progress);\n",
              "      document.body.appendChild(div);\n",
              "\n",
              "      const buffers = [];\n",
              "      let downloaded = 0;\n",
              "\n",
              "      const channel = await google.colab.kernel.comms.open(id);\n",
              "      // Send a message to notify the kernel that we're ready.\n",
              "      channel.send({})\n",
              "\n",
              "      for await (const message of channel.messages) {\n",
              "        // Send a message to notify the kernel that we're ready.\n",
              "        channel.send({})\n",
              "        if (message.buffers) {\n",
              "          for (const buffer of message.buffers) {\n",
              "            buffers.push(buffer);\n",
              "            downloaded += buffer.byteLength;\n",
              "            progress.value = downloaded;\n",
              "          }\n",
              "        }\n",
              "      }\n",
              "      const blob = new Blob(buffers, {type: 'application/binary'});\n",
              "      const a = document.createElement('a');\n",
              "      a.href = window.URL.createObjectURL(blob);\n",
              "      a.download = filename;\n",
              "      div.appendChild(a);\n",
              "      a.click();\n",
              "      div.remove();\n",
              "    }\n",
              "  "
            ]
          },
          "metadata": {}
        },
        {
          "output_type": "display_data",
          "data": {
            "text/plain": [
              "<IPython.core.display.Javascript object>"
            ],
            "application/javascript": [
              "download(\"download_a8efd546-4d33-4c3c-b088-5789c9250ffb\", \"Predicted.csv\", 2082)"
            ]
          },
          "metadata": {}
        }
      ]
    }
  ],
  "metadata": {
    "colab": {
      "provenance": [],
      "collapsed_sections": [
        "unmcCjWNfcxX"
      ],
      "include_colab_link": true
    },
    "kernelspec": {
      "display_name": "Python 3",
      "name": "python3"
    },
    "language_info": {
      "name": "python"
    }
  },
  "nbformat": 4,
  "nbformat_minor": 0
}